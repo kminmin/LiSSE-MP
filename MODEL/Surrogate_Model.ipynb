{
 "cells": [
  {
   "cell_type": "markdown",
   "id": "258c08ef",
   "metadata": {},
   "source": [
    "### Discovery of Superionic Solid-State Electrolyte for Li-Ion Batteries via Machine Learing"
   ]
  },
  {
   "cell_type": "markdown",
   "id": "764b243d",
   "metadata": {},
   "source": [
    "#### Module"
   ]
  },
  {
   "cell_type": "code",
   "execution_count": null,
   "id": "6abb2aab",
   "metadata": {},
   "outputs": [],
   "source": [
    "import pandas as pd\n",
    "import matplotlib.pyplot as plt\n",
    "\n",
    "\n",
    "from sklearn.model_selection import train_test_split\n",
    "from sklearn.metrics import accuracy_score, precision_score, recall_score, f1_score\n",
    "from sklearn.metrics import plot_confusion_matrix\n",
    "\n",
    "from sklearn.ensemble import RandomForestClassifier\n",
    "from lightgbm import LGBMClassifier      \n",
    "\n",
    "\n",
    "import shap"
   ]
  },
  {
   "cell_type": "markdown",
   "id": "b3cf53d9",
   "metadata": {},
   "source": [
    "#### Surrogate Model"
   ]
  },
  {
   "cell_type": "code",
   "execution_count": null,
   "id": "5e29b312",
   "metadata": {},
   "outputs": [],
   "source": [
    "models=[rf,lgbm]\n",
    "\n",
    "models_name = ['RF','LGBM']\n",
    "\n",
    "\n",
    "PRED = pd.DataFrame()\n",
    "PROBA = pd.DataFrame()\n",
    "TEST_PRED = pd.DataFrame()\n",
    "TEST_PROBA = pd.DataFrame()\n",
    "\n",
    "ACC = pd.DataFrame()\n",
    "PRECISION = pd.DataFrame()\n",
    "RECALL = pd.DataFrame()\n",
    "F1 = pd.DataFrame()\n",
    "FI = pd.DataFrame()\n",
    "\n",
    "for clf_n, clf in zip(models_name,models):\n",
    "    \n",
    "    A_result = []\n",
    "    P_result = []\n",
    "    R_result = []\n",
    "    F_result = []\n",
    "    \n",
    "    \n",
    "    for i in range(0,100):\n",
    "        \n",
    "        X_train, X_test, y_train, y_test = train_test_split(DB_X,DB_y, train_size =0.8, random_state = i, stratify = DB_y)\n",
    "        \n",
    "        clf.fit(X_train,y_train)\n",
    "        y_pred = clf.predict(X_test)\n",
    "        y_proba = clf.predict_proba(X_test)[:,1]\n",
    "        \n",
    "        test_pred = clf.predict(TEST_DB)\n",
    "        test_proba = clf.predict_proba(TEST_DB)[:,1]\n",
    "        \n",
    "        Pred = pd.DataFrame(y_pred,columns={str(clf_n)+'_'+str(i)})\n",
    "        Proba = pd.DataFrame(y_proba,columns={str(clf_n)+'_'+str(i)})\n",
    "        FI_result = pd.DataFrame(fi,columns={str(clf_n)+'_'+str(i)},index = DB_X.columns)\n",
    "        \n",
    "        Test_pred = pd.DataFrame(test_pred,columns={str(clf_n)+'_'+str(i)})\n",
    "        Test_proba = pd.DataFrame(test_proba,columns={str(clf_n)+'_'+str(i)})\n",
    "        \n",
    "        acc = accuracy_score(y_test,y_pred)\n",
    "        precision = precision_score(y_test,y_pred)\n",
    "        recall = recall_score(y_test,y_pred)\n",
    "        f1 = f1_score(y_test,y_pred)\n",
    "        \n",
    "        A_result.append(acc)\n",
    "        P_result.append(precision)\n",
    "        R_result.append(recall)\n",
    "        F_result.append(f1)\n",
    "        \n",
    "        PRED = pd.concat([PRED,Pred],axis=1)   \n",
    "        PROBA = pd.concat([PROBA,Proba],axis=1)\n",
    "        FI = pd.concat([FI,FI_result],axis=1)\n",
    "        \n",
    "        TEST_PRED = pd.concat([TEST_PRED,Test_pred],axis=1)   \n",
    "        TEST_PROBA = pd.concat([TEST_PROBA,Test_proba],axis=1)        \n",
    "        \n",
    "        plot_confusion_matrix(clf, X_test, y_test, cmap = 'Blues')\n",
    "        plt.show()\n",
    "        print('Model: {} - Random_state : {} - ACC: {:.4f} | Prec: {:.4f} | Recall: {:.4f} | F1: {:.4f} '.format(clf_n,i,accuracy_score(y_test,y_pred),\n",
    "                                                                                             precision_score(y_test,y_pred),\n",
    "                                                                                             recall_score(y_test,y_pred),\n",
    "                                                                                             f1_score(y_test,y_pred)))\n",
    "    \n",
    "    Acc = pd.DataFrame(A_result,columns={str(clf_n)})\n",
    "    ACC = pd.concat([ACC,Acc],axis=1)      \n",
    "    \n",
    "    Precision = pd.DataFrame(P_result,columns={str(clf_n)})\n",
    "    PRECISION = pd.concat([PRECISION,Precision],axis=1)       \n",
    "    \n",
    "    Recall = pd.DataFrame(R_result,columns={str(clf_n)})\n",
    "    RECALL = pd.concat([RECALL,Recall],axis=1)   \n",
    "    \n",
    "    F1_score = pd.DataFrame(F_result,columns={str(clf_n)})\n",
    "    F1 = pd.concat([F1,F1_score],axis=1)"
   ]
  },
  {
   "cell_type": "markdown",
   "id": "2aa61a02",
   "metadata": {},
   "source": [
    "#### SHAP Analysis"
   ]
  },
  {
   "cell_type": "code",
   "execution_count": null,
   "id": "f4b93dc9",
   "metadata": {},
   "outputs": [],
   "source": [
    "rf_model = rf.fit(DB_X,DB_y)\n",
    "shap_values = shap.TreeExplainer(rf_model).shap_values(DB_X)\n",
    "shap.summary_plot(shap_values, DB_X)"
   ]
  },
  {
   "cell_type": "code",
   "execution_count": null,
   "id": "2a5c4910",
   "metadata": {},
   "outputs": [],
   "source": [
    "lgbm_model = lgbm.fit(DB_X,DB_y)\n",
    "shap_values = shap.TreeExplainer(lgbm_model).shap_values(DB_X)\n",
    "shap.summary_plot(shap_values, DB_X)"
   ]
  }
 ],
 "metadata": {
  "kernelspec": {
   "display_name": "Python 3",
   "language": "python",
   "name": "python3"
  },
  "language_info": {
   "codemirror_mode": {
    "name": "ipython",
    "version": 3
   },
   "file_extension": ".py",
   "mimetype": "text/x-python",
   "name": "python",
   "nbconvert_exporter": "python",
   "pygments_lexer": "ipython3",
   "version": "3.8.5"
  }
 },
 "nbformat": 4,
 "nbformat_minor": 5
}
